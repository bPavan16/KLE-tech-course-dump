{
 "cells": [
  {
   "cell_type": "code",
   "execution_count": 1,
   "metadata": {},
   "outputs": [
    {
     "name": "stdout",
     "output_type": "stream",
     "text": [
      "play\n",
      "play\n",
      "play\n",
      "play\n"
     ]
    }
   ],
   "source": [
    "from nltk.stem import PorterStemmer \n",
    "\n",
    "porter = PorterStemmer()\n",
    "print(porter.stem('play'))\n",
    "print(porter.stem('plays'))\n",
    "print(porter.stem('playing'))\n",
    "print(porter.stem('played'))\n"
   ]
  },
  {
   "cell_type": "code",
   "execution_count": 2,
   "metadata": {},
   "outputs": [
    {
     "name": "stdout",
     "output_type": "stream",
     "text": [
      "fli\n",
      "fli\n",
      "fli\n",
      "flew\n",
      "flown\n",
      "flow\n",
      "flow\n"
     ]
    }
   ],
   "source": [
    "porter = PorterStemmer()\n",
    "print(porter.stem('fly'))\n",
    "print(porter.stem('flies'))\n",
    "print(porter.stem('flying'))\n",
    "print(porter.stem('flew'))\n",
    "print(porter.stem('flown'))\n",
    "print(porter.stem('flowing'))\n",
    "print(porter.stem('flowed'))\n"
   ]
  },
  {
   "cell_type": "code",
   "execution_count": 4,
   "metadata": {},
   "outputs": [
    {
     "name": "stdout",
     "output_type": "stream",
     "text": [
      "commun\n"
     ]
    }
   ],
   "source": [
    "porter =  PorterStemmer()\n",
    "\n",
    "print(porter.stem('communication'))"
   ]
  }
 ],
 "metadata": {
  "kernelspec": {
   "display_name": "base",
   "language": "python",
   "name": "python3"
  },
  "language_info": {
   "codemirror_mode": {
    "name": "ipython",
    "version": 3
   },
   "file_extension": ".py",
   "mimetype": "text/x-python",
   "name": "python",
   "nbconvert_exporter": "python",
   "pygments_lexer": "ipython3",
   "version": "3.12.7"
  }
 },
 "nbformat": 4,
 "nbformat_minor": 2
}
