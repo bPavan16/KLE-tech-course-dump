{
  "nbformat": 4,
  "nbformat_minor": 0,
  "metadata": {
    "colab": {
      "provenance": [],
      "authorship_tag": "ABX9TyN5Wgejg+feZvqhRSKZcRsn",
      "include_colab_link": true
    },
    "kernelspec": {
      "name": "python3",
      "display_name": "Python 3"
    },
    "language_info": {
      "name": "python"
    }
  },
  "cells": [
    {
      "cell_type": "markdown",
      "metadata": {
        "id": "view-in-github",
        "colab_type": "text"
      },
      "source": [
        "<a href=\"https://colab.research.google.com/github/bPavan16/kle-tech-archive/blob/main/src/5_word2vec_functions.ipynb\" target=\"_parent\"><img src=\"https://colab.research.google.com/assets/colab-badge.svg\" alt=\"Open In Colab\"/></a>"
      ]
    },
    {
      "cell_type": "code",
      "source": [
        "import gensim.downloader as api"
      ],
      "metadata": {
        "id": "e-Lyp8DeYdfo"
      },
      "execution_count": 13,
      "outputs": []
    },
    {
      "cell_type": "code",
      "source": [
        "def load_word2vec_model():\n",
        "\n",
        "    \"\"\"\n",
        "\n",
        "    This functions loads the pre-trained Word2Vec Google News model (300-dimensional)\n",
        "    and returns it.\n",
        "\n",
        "    \"\"\"\n",
        "\n",
        "    print(\"Loading Word2Vec model... This may take a while.\")\n",
        "    # Load model from Gensim dataset\n",
        "\n",
        "    model = api.load(\"word2vec-google-news-300\")\n",
        "\n",
        "    print(\"Model loaded successfully!\")\n",
        "\n",
        "    return model"
      ],
      "metadata": {
        "id": "HkVSNWBpYhJE"
      },
      "execution_count": 14,
      "outputs": []
    },
    {
      "cell_type": "code",
      "source": [
        "def word_similarity(model, word1, word2):\n",
        "\n",
        "    \"\"\"\n",
        "\n",
        "    This function computes similarity between two words.\n",
        "\n",
        "    \"\"\"\n",
        "\n",
        "    try:\n",
        "        similarity = model.similarity(word1, word2)\n",
        "\n",
        "        print(f\"Similarity between '{word1}' and '{word2}': {similarity:.4f}\")\n",
        "\n",
        "    except KeyError as e:\n",
        "\n",
        "        print(f\"Word not found in vocabulary: {e}\")"
      ],
      "metadata": {
        "id": "W1M6BSXiYuim"
      },
      "execution_count": 15,
      "outputs": []
    },
    {
      "cell_type": "code",
      "source": [
        "def most_similar_words(model, word, topn=7):\n",
        "\n",
        "    \"\"\"\n",
        "    Find words most similar to a given word.\n",
        "\n",
        "    \"\"\"\n",
        "\n",
        "    try:\n",
        "        similar_words = model.most_similar(word, topn=topn)\n",
        "\n",
        "        print(f\"Top {topn} words similar to '{word}':\")\n",
        "\n",
        "        for word, score in similar_words:\n",
        "            print(f\"  {word}: {score:.4f}\")\n",
        "\n",
        "    except KeyError as e:\n",
        "        print(f\"Word not found in vocabulary: {e}\")"
      ],
      "metadata": {
        "id": "2XlVrWOdYwqQ"
      },
      "execution_count": null,
      "outputs": []
    },
    {
      "cell_type": "code",
      "execution_count": 16,
      "metadata": {
        "id": "epTjJotnYXap"
      },
      "outputs": [],
      "source": [
        "def word_arithmetic(model, positive, negative, topn=5):\n",
        "    \"\"\"\n",
        "    This Function perform the word vector arithmetic.\n",
        "\n",
        "    Example: king - man + woman = ?\n",
        "\n",
        "    \"\"\"\n",
        "    try:\n",
        "        result = model.most_similar(positive=positive, negative=negative, topn=topn)\n",
        "\n",
        "        print(f\"Word arithmetic result ({positive} - {negative}):\")\n",
        "\n",
        "        for word, score in result:\n",
        "            print(f\"  {word}: {score:.4f}\")\n",
        "\n",
        "    except KeyError as e:\n",
        "\n",
        "        print(f\"Word not found in vocabulary: {e}\")"
      ]
    },
    {
      "cell_type": "code",
      "source": [
        "# Load Model\n",
        "model = load_word2vec_model()"
      ],
      "metadata": {
        "colab": {
          "base_uri": "https://localhost:8080/"
        },
        "id": "mYRp4y4GY0j3",
        "outputId": "d2175eb5-9a85-4281-974e-23c554c2bd49"
      },
      "execution_count": 17,
      "outputs": [
        {
          "output_type": "stream",
          "name": "stdout",
          "text": [
            "Loading Word2Vec model... This may take a while.\n",
            "Model loaded successfully!\n"
          ]
        }
      ]
    },
    {
      "cell_type": "code",
      "source": [
        "# Test Examples\n",
        "word_similarity(model, \"king\", \"queen\")"
      ],
      "metadata": {
        "colab": {
          "base_uri": "https://localhost:8080/"
        },
        "id": "qJRvlzAdY94z",
        "outputId": "fda05476-d21a-4ed2-abe0-e3f4d779cb3e"
      },
      "execution_count": 18,
      "outputs": [
        {
          "output_type": "stream",
          "name": "stdout",
          "text": [
            "Similarity between 'king' and 'queen': 0.6511\n"
          ]
        }
      ]
    },
    {
      "cell_type": "code",
      "source": [
        "most_similar_words(model, \"computer\")"
      ],
      "metadata": {
        "colab": {
          "base_uri": "https://localhost:8080/"
        },
        "id": "5oyF0bvQZUEV",
        "outputId": "81744734-1f92-4ec9-e5f3-b3ebd4c194b1"
      },
      "execution_count": 19,
      "outputs": [
        {
          "output_type": "stream",
          "name": "stdout",
          "text": [
            "Top 5 words similar to 'computer':\n",
            "  computers: 0.7979\n",
            "  laptop: 0.6640\n",
            "  laptop_computer: 0.6549\n",
            "  Computer: 0.6473\n",
            "  com_puter: 0.6082\n"
          ]
        }
      ]
    },
    {
      "cell_type": "code",
      "source": [
        "word_arithmetic(model, positive=[\"king\", \"woman\"], negative=[\"man\"])"
      ],
      "metadata": {
        "colab": {
          "base_uri": "https://localhost:8080/"
        },
        "id": "nnBzPmFVZVS3",
        "outputId": "827fc42f-f241-4a9c-fdaa-8031b4de29cd"
      },
      "execution_count": 20,
      "outputs": [
        {
          "output_type": "stream",
          "name": "stdout",
          "text": [
            "Word arithmetic result (['king', 'woman'] - ['man']):\n",
            "  queen: 0.7118\n",
            "  monarch: 0.6190\n",
            "  princess: 0.5902\n",
            "  crown_prince: 0.5499\n",
            "  prince: 0.5377\n"
          ]
        }
      ]
    },
    {
      "cell_type": "code",
      "source": [
        "word_arithmetic(model, positive=[\"king\", \"woman\"], negative=[\"man\"])"
      ],
      "metadata": {
        "colab": {
          "base_uri": "https://localhost:8080/"
        },
        "id": "NGzPfAxpbmRt",
        "outputId": "20f3b73b-def6-4e0f-d41c-19a7cee7604d"
      },
      "execution_count": 21,
      "outputs": [
        {
          "output_type": "stream",
          "name": "stdout",
          "text": [
            "Word arithmetic result (['king', 'woman'] - ['man']):\n",
            "  queen: 0.7118\n",
            "  monarch: 0.6190\n",
            "  princess: 0.5902\n",
            "  crown_prince: 0.5499\n",
            "  prince: 0.5377\n"
          ]
        }
      ]
    },
    {
      "cell_type": "code",
      "source": [
        "word_arithmetic(model, positive=[\"land\", \"water\"], negative=[\"land\"])"
      ],
      "metadata": {
        "colab": {
          "base_uri": "https://localhost:8080/"
        },
        "id": "mxI4C-m3b5LK",
        "outputId": "90aac51f-1e21-41b2-d907-a2a40d2890a0"
      },
      "execution_count": 22,
      "outputs": [
        {
          "output_type": "stream",
          "name": "stdout",
          "text": [
            "Word arithmetic result (['land', 'water'] - ['land']):\n",
            "  potable_water: 0.6799\n",
            "  Water: 0.6707\n",
            "  sewage: 0.6619\n",
            "  groundwater: 0.6588\n",
            "  Floridan_aquifer: 0.6423\n"
          ]
        }
      ]
    }
  ]
}
