{
  "nbformat": 4,
  "nbformat_minor": 0,
  "metadata": {
    "colab": {
      "provenance": [],
      "authorship_tag": "ABX9TyOlHmG0wuE8VgHNIsT50FXx",
      "include_colab_link": true
    },
    "kernelspec": {
      "name": "python3",
      "display_name": "Python 3"
    },
    "language_info": {
      "name": "python"
    }
  },
  "cells": [
    {
      "cell_type": "markdown",
      "metadata": {
        "id": "view-in-github",
        "colab_type": "text"
      },
      "source": [
        "<a href=\"https://colab.research.google.com/github/bPavan16/kle-tech-archive/blob/main/nlp/6_wordEmbeddings.ipynb\" target=\"_parent\"><img src=\"https://colab.research.google.com/assets/colab-badge.svg\" alt=\"Open In Colab\"/></a>"
      ]
    },
    {
      "cell_type": "code",
      "source": [
        "!pip install gensim"
      ],
      "metadata": {
        "colab": {
          "base_uri": "https://localhost:8080/"
        },
        "id": "NUMde1gmiLbw",
        "outputId": "920e8a0d-d3fe-4ee2-ab94-5660e2c0c797"
      },
      "execution_count": 3,
      "outputs": [
        {
          "output_type": "stream",
          "name": "stdout",
          "text": [
            "Requirement already satisfied: gensim in /usr/local/lib/python3.11/dist-packages (4.3.3)\n",
            "Requirement already satisfied: numpy<2.0,>=1.18.5 in /usr/local/lib/python3.11/dist-packages (from gensim) (1.26.4)\n",
            "Requirement already satisfied: scipy<1.14.0,>=1.7.0 in /usr/local/lib/python3.11/dist-packages (from gensim) (1.13.1)\n",
            "Requirement already satisfied: smart-open>=1.8.1 in /usr/local/lib/python3.11/dist-packages (from gensim) (7.1.0)\n",
            "Requirement already satisfied: wrapt in /usr/local/lib/python3.11/dist-packages (from smart-open>=1.8.1->gensim) (1.17.2)\n"
          ]
        }
      ]
    },
    {
      "cell_type": "code",
      "execution_count": 5,
      "metadata": {
        "id": "rx8KzHgahJ4N"
      },
      "outputs": [],
      "source": [
        "import gensim.downloader as api"
      ]
    },
    {
      "cell_type": "code",
      "source": [
        "\n",
        "class WordEmbeddings:\n",
        "\n",
        "    def __init__(self, model_name):\n",
        "\n",
        "        \"\"\"\n",
        "\n",
        "        Initialize the WordEmbeddings class.\n",
        "\n",
        "        Args:\n",
        "        model_name (str): The name of the pre-trained embedding model to load.\n",
        "\n",
        "        \"\"\"\n",
        "\n",
        "        print(f\"Loading {model_name} model... This may take some time.\")\n",
        "\n",
        "        self.model = api.load(model_name)\n",
        "\n",
        "        print(f\"{model_name} model loaded successfully!\")\n",
        "\n",
        "    def word_similarity(self, word1, word2):\n",
        "\n",
        "        \"\"\"\n",
        "\n",
        "        Compute similarity between two words.\n",
        "\n",
        "        Args:\n",
        "        word1 (str): The first word.\n",
        "        word2 (str): The second word.\n",
        "\n",
        "        \"\"\"\n",
        "\n",
        "        try:\n",
        "            similarity = self.model.similarity(word1, word2)\n",
        "\n",
        "            print(f\"Similarity between '{word1}' and '{word2}': {similarity:.4f}\")\n",
        "\n",
        "        except KeyError as e:\n",
        "\n",
        "            print(f\"Word not found in vocabulary: {e}\")\n",
        "\n",
        "    def most_similar_words(self, word, topn=5):\n",
        "\n",
        "      \"\"\"\n",
        "\n",
        "      Find words most similar to a given word.\n",
        "\n",
        "      Args:\n",
        "\n",
        "      word (str): The word to find similar words for.\n",
        "      topn (int): The number of most similar words to return.\n",
        "\n",
        "      \"\"\"\n",
        "\n",
        "      try:\n",
        "\n",
        "          similar_words = self.model.most_similar(word, topn=topn)\n",
        "\n",
        "          print(f\"Top {topn} words similar to '{word}':\")\n",
        "\n",
        "          for w, score in similar_words:\n",
        "              print(f\"  {w}: {score:.4f}\")\n",
        "\n",
        "      except KeyError as e:\n",
        "\n",
        "          print(f\"Word not found in vocabulary: {e}\")\n",
        "\n",
        "    def word_arithmetic(self, positive, negative, topn=5):\n",
        "\n",
        "        \"\"\"\n",
        "\n",
        "        Perform word vector arithmetic.\n",
        "        Example: \"king\" - \"man\" + \"woman\" = \"queen\"\n",
        "\n",
        "        Args:\n",
        "        positive (list): List of words to add.\n",
        "        negative (list): List of words to subtract.\n",
        "        topn (int): The number of most similar words to return.\n",
        "\n",
        "\n",
        "        \"\"\"\n",
        "        try:\n",
        "\n",
        "            result = self.model.most_similar(positive=positive, negative=negative, topn=topn)\n",
        "\n",
        "            print(f\"Word arithmetic result ({positive} - {negative}):\")\n",
        "\n",
        "            for w, score in result:\n",
        "                print(f\"  {w}: {score:.4f}\")\n",
        "\n",
        "        except KeyError as e:\n",
        "\n",
        "            print(f\"Word not found in vocabulary: {e}\")\n",
        "\n",
        "    def check_word_in_vocab(self, word):\n",
        "\n",
        "      \"\"\"\n",
        "\n",
        "      Check if a word exists in the model's vocabulary.\n",
        "\n",
        "      Args:\n",
        "      word (str): The word to check.\n",
        "\n",
        "\n",
        "      \"\"\"\n",
        "\n",
        "      if word in self.model.key_to_index:\n",
        "\n",
        "          print(f\"'{word}' is in the vocabulary!\")\n",
        "\n",
        "      else:\n",
        "\n",
        "          print(f\"'{word}' is NOT in the vocabulary!\")\n",
        "\n",
        ""
      ],
      "metadata": {
        "id": "SzgO35PUhQJv"
      },
      "execution_count": 6,
      "outputs": []
    },
    {
      "cell_type": "code",
      "source": [
        "# Load Word2Vec (Google News)\n",
        "word2vec = WordEmbeddings(\"word2vec-google-news-300\")\n"
      ],
      "metadata": {
        "colab": {
          "base_uri": "https://localhost:8080/"
        },
        "id": "dgCpxDb4irNY",
        "outputId": "617614a9-aa28-43f9-b6aa-49e48dd1c085"
      },
      "execution_count": null,
      "outputs": [
        {
          "output_type": "stream",
          "name": "stdout",
          "text": [
            "Loading word2vec-google-news-300 model... This may take some time.\n",
            "[==------------------------------------------------] 4.2% 70.4/1662.8MB downloaded"
          ]
        }
      ]
    },
    {
      "cell_type": "code",
      "source": [
        "glove = WordEmbeddings(\"glove-wiki-gigaword-300\")"
      ],
      "metadata": {
        "id": "ZCDLW5MLjkAp"
      },
      "execution_count": null,
      "outputs": []
    },
    {
      "cell_type": "code",
      "source": [
        "fasttext = WordEmbeddings(\"fasttext-wiki-news-subwords-300\")"
      ],
      "metadata": {
        "id": "_485-yrqj7oG"
      },
      "execution_count": null,
      "outputs": []
    },
    {
      "cell_type": "code",
      "source": [
        "# Test Examples with Word2Vec\n",
        "print(\"\\n--- Word2Vec Tests ---\")\n",
        "word2vec.word_similarity(\"king\", \"queen\")"
      ],
      "metadata": {
        "id": "vFi1fYxwkeAd"
      },
      "execution_count": null,
      "outputs": []
    },
    {
      "cell_type": "code",
      "source": [
        "print(\"\\n--- Word2Vec Tests ---\")\n",
        "word2vec.most_similar_words(\"computer\")"
      ],
      "metadata": {
        "id": "X82IauVvkyMd"
      },
      "execution_count": null,
      "outputs": []
    },
    {
      "cell_type": "code",
      "source": [
        "print(\"\\n--- Word2Vec Tests ---\")\n",
        "word2vec.word_arithmetic(positive=[\"king\", \"woman\"], negative=[\"man\"])"
      ],
      "metadata": {
        "id": "sLbXneZ-kzqI"
      },
      "execution_count": null,
      "outputs": []
    },
    {
      "cell_type": "code",
      "source": [
        "print(\"\\n--- Word2Vec Tests ---\")\n",
        "word2vec.check_word_in_vocab(\"artificial\")"
      ],
      "metadata": {
        "id": "0x18u-ISk2E7"
      },
      "execution_count": null,
      "outputs": []
    },
    {
      "cell_type": "code",
      "source": [
        "# Test Examples with GloVe\n",
        "print(\"\\n--- GloVe Tests ---\")\n",
        "glove.word_similarity(\"king\", \"queen\")\n",
        "glove.most_similar_words(\"computer\")\n",
        "glove.word_arithmetic(positive=[\"king\", \"woman\"], negative=[\"man\"])\n",
        "glove.check_word_in_vocab(\"artificial\")"
      ],
      "metadata": {
        "id": "-WiMgtX1k6c8"
      },
      "execution_count": null,
      "outputs": []
    },
    {
      "cell_type": "code",
      "source": [
        "# Test Examples with FastText\n",
        "print(\"\\n--- FastText Tests ---\")\n",
        "fasttext.word_similarity(\"king\", \"queen\")\n",
        "fasttext.most_similar_words(\"computer\")\n",
        "fasttext.word_arithmetic(positive=[\"king\", \"woman\"], negative=[\"man\"])\n",
        "fasttext.check_word_in_vocab(\"artificial\")"
      ],
      "metadata": {
        "id": "ZEdVItdbk8bT"
      },
      "execution_count": null,
      "outputs": []
    }
  ]
}